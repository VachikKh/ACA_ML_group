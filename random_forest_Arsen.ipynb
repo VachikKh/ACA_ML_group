{
 "cells": [
  {
   "cell_type": "code",
   "execution_count": 25,
   "metadata": {
    "collapsed": true
   },
   "outputs": [],
   "source": [
    "from dtOmitted import build_tree,DecisionNode\n",
    "import numpy as np\n",
    "from collections import defaultdict\n",
    "from decision_tree import DecisionTree\n",
    "import matplotlib.pyplot as plt\n",
    "from random_forest import RandomForest\n",
    "from logistic import logistic\n",
    "import runner\n"
   ]
  },
  {
   "cell_type": "code",
   "execution_count": 4,
   "metadata": {
    "collapsed": true
   },
   "outputs": [],
   "source": [
    "filename = 'SPECTF.dat'\n",
    "data = np.loadtxt(filename, delimiter=',')\n",
    "X = data[:, 1:]\n",
    "y = np.array([data[:, 0]]).T\n",
    "n, d = X.shape\n",
    "num_folds=10\n",
    "    \n"
   ]
  },
  {
   "cell_type": "code",
   "execution_count": 5,
   "metadata": {
    "collapsed": true
   },
   "outputs": [],
   "source": [
    "idx = np.arange(n)\n",
    "np.random.seed(10)\n",
    "np.random.shuffle(idx)\n",
    "X = X[idx]\n",
    "y = y[idx]\n",
    "\n",
    "Xtrain = X[:n-n//num_folds, :]  # train on first 100 instances\n",
    "Xtest = X[n-n//num_folds:, :]\n",
    "ytrain = y[:n-n//num_folds, :]  # test on remaining instances\n",
    "ytest = y[n-n//num_folds:, :]\n",
    "\n",
    "rf_classifier=RandomForest(15,100,0.3)\n",
    "rf_classifier.fit(Xtrain,ytrain)\n",
    "\n",
    "l_classifier=logistic()\n",
    "l_classifier.fit(Xtest,ytest)\n",
    "        "
   ]
  },
  {
   "cell_type": "code",
   "execution_count": 6,
   "metadata": {
    "collapsed": false
   },
   "outputs": [
    {
     "name": "stdout",
     "output_type": "stream",
     "text": [
      "X=[ 77.  59.  76.  78.  40.  34.  75.  63.  65.  26.  70.  28.  50.  46.  25.\n",
      "  66.  46.  52.  63.  63.  68.  56.  46.  47.  12.   6.  28.  23.  56.  48.\n",
      "  68.  55.  63.  54.  40.  20.  65.  68.  56.  57.   5.  10.  13.  10.] \n",
      "Y=[ 1.]\n"
     ]
    }
   ],
   "source": [
    "idx=-4\n",
    "print(\"X={0} \\nY={1}\".format(X[idx],y[idx]))"
   ]
  },
  {
   "cell_type": "code",
   "execution_count": 7,
   "metadata": {
    "collapsed": false
   },
   "outputs": [
    {
     "data": {
      "text/plain": [
       "([1.0], [1.0])"
      ]
     },
     "execution_count": 7,
     "metadata": {},
     "output_type": "execute_result"
    }
   ],
   "source": [
    "rf_classifier.predict([X[idx]])"
   ]
  },
  {
   "cell_type": "code",
   "execution_count": 8,
   "metadata": {
    "collapsed": false
   },
   "outputs": [
    {
     "data": {
      "text/plain": [
       "[1]"
      ]
     },
     "execution_count": 8,
     "metadata": {},
     "output_type": "execute_result"
    }
   ],
   "source": [
    "l_classifier.predict([X[idx]])"
   ]
  },
  {
   "cell_type": "code",
   "execution_count": 20,
   "metadata": {
    "collapsed": false
   },
   "outputs": [
    {
     "name": "stdout",
     "output_type": "stream",
     "text": [
      "X=[ 58.  63.  80.  71.  76.  70.  70.  71.  64.  63.  74.  78.  77.  75.  62.\n",
      "  61.  62.  56.  71.  52.  82.  71.  84.  85.  71.  71.  57.  47.  42.  39.\n",
      "  70.  70.  50.  70.  50.  46.  58.  60.  76.  73.  82.  77.  65.  66.] \n",
      "Y=[ 0.]\n"
     ]
    }
   ],
   "source": [
    "idx=-9\n",
    "print(\"X={0} \\nY={1}\".format(X[idx],y[idx]))"
   ]
  },
  {
   "cell_type": "code",
   "execution_count": 21,
   "metadata": {
    "collapsed": false
   },
   "outputs": [
    {
     "data": {
      "text/plain": [
       "([0.0], [0.66666666666666663])"
      ]
     },
     "execution_count": 21,
     "metadata": {},
     "output_type": "execute_result"
    }
   ],
   "source": [
    "rf_classifier.predict([X[idx]])"
   ]
  },
  {
   "cell_type": "code",
   "execution_count": 22,
   "metadata": {
    "collapsed": false
   },
   "outputs": [
    {
     "data": {
      "text/plain": [
       "[1]"
      ]
     },
     "execution_count": 22,
     "metadata": {},
     "output_type": "execute_result"
    }
   ],
   "source": [
    "l_classifier.predict([X[idx]])"
   ]
  }
 ],
 "metadata": {
  "kernelspec": {
   "display_name": "Python 3",
   "language": "python",
   "name": "python3"
  },
  "language_info": {
   "codemirror_mode": {
    "name": "ipython",
    "version": 3
   },
   "file_extension": ".py",
   "mimetype": "text/x-python",
   "name": "python",
   "nbconvert_exporter": "python",
   "pygments_lexer": "ipython3",
   "version": "3.6.0"
  }
 },
 "nbformat": 4,
 "nbformat_minor": 2
}
