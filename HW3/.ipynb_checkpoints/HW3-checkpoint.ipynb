{
 "cells": [
  {
   "cell_type": "markdown",
   "metadata": {},
   "source": [
    "<span style=\"font-size: 14pt\">EREVAN, May-June 2017</span>\n",
    "\n",
    "<span style=\"font-size: 16pt\"> HW #3: ARIMA model\n",
    "\n",
    "<span style=\"color:blue; font-size: 12pt\">Alexey Romanenko </span>,\n",
    "<span style=\"color:blue; font-size: 12pt; font-family: 'Verdana'\">alexromsput@gmail.com</span>\n",
    "\n",
    "\n",
    "<h1 align=\"center\"> Home Work 3 </h1>\n",
    "\n",
    "## Answer questions\n",
    "\n",
    "1) **Find equation for $y_t$ that corresponds to the following ARIMA model**:\n",
    " - 1) ARIMA $(p=0,d=k,q=1)$,\n",
    " - 2) ARIMA $(p=0,d=k+1,d=1)(P=1, D=1, Q=0)_s$,\n",
    "\n",
    "<Answer>\n",
    "\n",
    "2)    ** Write canonic form of ARMA model for the time series **\n",
    " - 1) $$y_t = a_1 y_{t-1} + a_2 y_{t-4} - a_1 a_2 y_{t-5} + \\varepsilon_t$$ (Hint: seasnality period is equal to 4).\n",
    " - 2) $$y_t = y_{t-d} + \\varepsilon_t +b_2 \\varepsilon_{t-2} + B_1 \\varepsilon_{t-s} + b_2 B_1 \\varepsilon_{t-s-2} $$\n",
    "\n",
    "    \n",
    "3) **Proof that ARIMA$(p=0,d=2, q=2)$ is equivalent to Holt (linear trend) with:**\n",
    "\t\t$$(1-L)^2Y_t = (1-\\phi_1 L-\\phi_2 L^2)\\varepsilon_t$$\n",
    "\t\t$$\\phi_1 = 2-\\alpha-\\alpha\\beta, \\text{ }\\phi_2 = \\alpha-1$$\n",
    "\n",
    "<Answer>"
   ]
  },
  {
   "cell_type": "markdown",
   "metadata": {},
   "source": [
    "1) \n",
    " - 1) ARIMA $(p=0,d=k,q=1)$\n",
    "     \n",
    "     $(1-B)^k y_t=\\varepsilon_t+\\phi_1\\varepsilon_{t-1}$\n",
    "     \n",
    " - 2) ARIMA $(p=0,d=k+1,d=1)(P=1, D=1, Q=0)_s$\n",
    "     \n",
    "     $(1-\\Phi_1 B^s)(1-B^S)(1-B)^{k+1} y_t=(1+\\theta_1 B)\\varepsilon_t$"
   ]
  },
  {
   "cell_type": "markdown",
   "metadata": {},
   "source": [
    "2)\n",
    "    \n",
    "$1.(1-\\alpha_2 B^4)(1-\\alpha_1 B)y_t=\\varepsilon_t$\n",
    "    \n",
    "$    2.(1-B^d)y_t=(1+b_2 B^2)(1+B_1 B^s)\\varepsilon_t$"
   ]
  },
  {
   "cell_type": "markdown",
   "metadata": {},
   "source": [
    "3)\n",
    "In Holt model\n",
    "\n",
    "$\\hat Y_t=l_{t-1}+b_{t-1}$\n",
    "\n",
    "$l_t=\\hat Y_t + \\alpha\\varepsilon_t$\n",
    "\n",
    "$b_t=\\alpha\\beta\\varepsilon_t+b_{t-1}$\n",
    "\n",
    "\n",
    "and we have to prove\n",
    "\n",
    "$(1-L)^2Y_t=(1-\\phi_1 L - \\phi_2 L^2)\\varepsilon_t =(1-2L+\\alpha L +\\alpha\\beta L -\\alpha L^2 + L^2)\\varepsilon_t=(1-L)^2 (Y_t-\\hat{Y}_t)+\\alpha L(1+\\beta-L)\\varepsilon_t$\n"
   ]
  },
  {
   "cell_type": "markdown",
   "metadata": {},
   "source": [
    "$\\hat Y_t(1-L)^2=\\alpha L(1+\\beta-L)\\varepsilon_t$"
   ]
  },
  {
   "cell_type": "markdown",
   "metadata": {},
   "source": [
    "$\\hat Y_t-2\\hat Y_{t-1}+\\hat Y_{t-2} = \\alpha (1+\\beta-L)\\varepsilon_{t-1}=\\alpha\\varepsilon_{t-1}+\\alpha\\beta\\varepsilon_{t-1}-\\alpha\\varepsilon_{t-2}$"
   ]
  },
  {
   "cell_type": "markdown",
   "metadata": {},
   "source": [
    "$\\hat Y_t=2\\hat Y_{t-1}-\\hat Y_{t-2} +\\alpha (1+\\beta-L)\\varepsilon_{t-1}=\\alpha\\varepsilon_{t-1}+\\alpha\\beta\\varepsilon_{t-1}-\\alpha\\varepsilon_{t-2}$"
   ]
  },
  {
   "cell_type": "markdown",
   "metadata": {},
   "source": [
    "$\\hat Y_{t-1}+ (\\hat Y_{t-1}+\\alpha\\varepsilon_{t-1}) + \\alpha\\beta\\varepsilon_{t-1}-(\\hat Y_{t-2}+\\alpha\\varepsilon_{t-2})=\\hat Y_{t-1} + l_{t-1} + \\alpha\\beta\\varepsilon_{t-1}-l_{t-2}=\\hat Y_{t-1}+l_{t-1}-l_{t-2}+(b_{t-1}-b_{t-2})=\\hat Y_{t-1} + (l_{t-1}+b_{t-1})-(l_{t-2}+b_{t-2})=\\hat Y_{t-1}+\\hat Y_{t}-\\hat Y_{t-1}=\\hat Y_t$\n",
    "\n",
    "This is what we had to prove"
   ]
  }
 ],
 "metadata": {
  "anaconda-cloud": {},
  "kernelspec": {
   "display_name": "Python 3",
   "language": "python",
   "name": "python3"
  },
  "language_info": {
   "codemirror_mode": {
    "name": "ipython",
    "version": 3
   },
   "file_extension": ".py",
   "mimetype": "text/x-python",
   "name": "python",
   "nbconvert_exporter": "python",
   "pygments_lexer": "ipython3",
   "version": "3.6.0"
  }
 },
 "nbformat": 4,
 "nbformat_minor": 1
}
