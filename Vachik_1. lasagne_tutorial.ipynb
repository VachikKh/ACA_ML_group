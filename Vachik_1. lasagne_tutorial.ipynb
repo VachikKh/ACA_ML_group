{
 "cells": [
  {
   "cell_type": "markdown",
   "metadata": {},
   "source": [
    "# lasagne\n",
    "* lasagne is a library for neural network building and training\n",
    "* it's a low-level library with almost seamless integration with theano\n",
    "\n",
    "For a demo we shall solve the same digit recognition problem, but at a different scale\n",
    "* images are now 28x28\n",
    "* 10 different digits\n",
    "* 50k samples"
   ]
  },
  {
   "cell_type": "code",
   "execution_count": 312,
   "metadata": {
    "collapsed": false
   },
   "outputs": [],
   "source": [
    "import numpy as np\n",
    "import theano\n",
    "import theano.tensor as T\n",
    "import matplotlib.pyplot as plt\n",
    "%matplotlib inline"
   ]
  },
  {
   "cell_type": "code",
   "execution_count": 313,
   "metadata": {
    "collapsed": false
   },
   "outputs": [
    {
     "name": "stdout",
     "output_type": "stream",
     "text": [
      "(50000, 1, 28, 28) (50000,) [3 8 6 ..., 5 6 8]\n"
     ]
    }
   ],
   "source": [
    "from mnist import load_dataset\n",
    "X_train,y_train,X_val,y_val,X_test,y_test = load_dataset()\n",
    "\n",
    "print(X_train.shape,y_train.shape, y_val)"
   ]
  },
  {
   "cell_type": "code",
   "execution_count": 314,
   "metadata": {
    "collapsed": true
   },
   "outputs": [],
   "source": [
    "input_X = T.tensor4(\"X\")\n",
    "\n",
    "#input dimention (None means \"Arbitrary\" and only works at  the first axes [samples])\n",
    "input_shape = [None,1,28,28]\n",
    "\n",
    "target_y = T.vector(\"target Y integer\",dtype='int32')"
   ]
  },
  {
   "cell_type": "markdown",
   "metadata": {},
   "source": [
    "Defining network architecture"
   ]
  },
  {
   "cell_type": "code",
   "execution_count": 315,
   "metadata": {
    "collapsed": false
   },
   "outputs": [],
   "source": [
    "import lasagne\n",
    "from lasagne.layers import *\n",
    "\n",
    "#Input layer (auxilary)\n",
    "l1 = InputLayer(shape = input_shape,input_var=input_X)\n",
    "\n",
    "#fully connected layer, that takes input layer and applies 50 neurons to it.\n",
    "# nonlinearity here is sigmoid as in logistic regression\n",
    "# you can give a name to each layer (optional)\n",
    "l = lasagne.layers.Conv2DLayer(l1, num_filters=20, filter_size=5, nonlinearity=lasagne.nonlinearities.linear)\n",
    "l = lasagne.layers.MaxPool2DLayer(l, pool_size=(2,2))\n",
    "l = lasagne.layers.Conv2DLayer(l, num_filters=10, filter_size=5, nonlinearity=lasagne.nonlinearities.linear)\n",
    "l = lasagne.layers.MaxPool2DLayer(l, pool_size=(2,2))\n",
    "l = lasagne.layers.DropoutLayer(l,  p=0.6)\n",
    "l = lasagne.layers.DenseLayer(l, num_units=1000, nonlinearity=lasagne.nonlinearities.tanh)\n",
    "\n",
    "#Fully-connected + dropout\n",
    "\n",
    "#l_2D = lasagne.layers.Conv2DLayer(l1,5,3) \n",
    "#l2 = DenseLayer(l_2D,num_units=50,nonlinearity = lasagne.nonlinearities.elu)\n",
    "\n",
    "# Another 50-unit layer:\n",
    "l_out = DenseLayer(l,num_units = 10, nonlinearity=lasagne.nonlinearities.softmax)\n"
   ]
  },
  {
   "cell_type": "code",
   "execution_count": 316,
   "metadata": {
    "collapsed": false
   },
   "outputs": [],
   "source": [
    "#network prediction (theano-transformation)\n",
    "y_predicted = lasagne.layers.get_output(l_out)\n",
    "y_predicted_test = lasagne.layers.get_output(l_out, deterministic = True)"
   ]
  },
  {
   "cell_type": "code",
   "execution_count": 317,
   "metadata": {
    "collapsed": false
   },
   "outputs": [
    {
     "name": "stdout",
     "output_type": "stream",
     "text": [
      "[W, b, W, b, W, b, W, b]\n"
     ]
    }
   ],
   "source": [
    "#all network weights (shared variables)\n",
    "all_weights = lasagne.layers.get_all_params(l_out)\n",
    "print (all_weights)"
   ]
  },
  {
   "cell_type": "markdown",
   "metadata": {},
   "source": [
    "### Than you could simply\n",
    "* define loss function manually\n",
    "* compute error gradient over all weights\n",
    "* define updates\n",
    "* But that's a whole lot of work and life's short\n",
    "  * not to mention life's too short to wait for SGD to converge\n",
    "\n",
    "Instead, we shall use Lasagne builtins"
   ]
  },
  {
   "cell_type": "code",
   "execution_count": null,
   "metadata": {
    "collapsed": true
   },
   "outputs": [],
   "source": []
  },
  {
   "cell_type": "code",
   "execution_count": 318,
   "metadata": {
    "collapsed": true
   },
   "outputs": [],
   "source": [
    "#Mean categorical crossentropy as a loss function - similar to logistic loss but for multiclass targets\n",
    "loss = lasagne.objectives.categorical_crossentropy(y_predicted,target_y).mean()\n",
    "\n",
    "#prediction accuracy\n",
    "accuracy = lasagne.objectives.categorical_accuracy(y_predicted_test,target_y).mean()\n",
    "\n",
    "#This function computes gradient AND composes weight updates just like you did earlier\n",
    "updates_sgd = lasagne.updates.adadelta(loss, all_weights,learning_rate=0.3)"
   ]
  },
  {
   "cell_type": "code",
   "execution_count": 319,
   "metadata": {
    "collapsed": false
   },
   "outputs": [],
   "source": [
    "#function that computes loss and updates weights\n",
    "train_fun = theano.function([input_X,target_y],[loss,accuracy],updates= updates_sgd)\n",
    "\n",
    "#function that just computes accuracy\n",
    "accuracy_fun = theano.function([input_X,target_y],accuracy)"
   ]
  },
  {
   "cell_type": "markdown",
   "metadata": {},
   "source": [
    "### That's all, now let's train it!\n",
    "* We got a lot of data, so it's recommended that you use SGD\n",
    "* So let's implement a function that splits the training sample into minibatches"
   ]
  },
  {
   "cell_type": "code",
   "execution_count": 320,
   "metadata": {
    "collapsed": true
   },
   "outputs": [],
   "source": [
    "# An auxilary function that returns mini-batches for neural network training\n",
    "\n",
    "#Parameters\n",
    "# inputs - a tensor of images with shape (many, 1, 28, 28), e.g. X_train\n",
    "# outputs - a vector of answers for corresponding images e.g. Y_train\n",
    "#batch_size - a single number - the intended size of each batches\n",
    "\n",
    "def iterate_minibatches(inputs, targets, batchsize):\n",
    "    assert len(inputs) == len(targets)\n",
    "    indices = np.arange(len(inputs))\n",
    "    np.random.shuffle(indices)\n",
    "    for start_idx in range(0, len(inputs) - batchsize + 1, batchsize):\n",
    "        excerpt = indices[start_idx:start_idx + batchsize]\n",
    "        yield inputs[excerpt], targets[excerpt]"
   ]
  },
  {
   "cell_type": "markdown",
   "metadata": {},
   "source": [
    "# Training loop"
   ]
  },
  {
   "cell_type": "code",
   "execution_count": 321,
   "metadata": {
    "collapsed": false,
    "scrolled": true
   },
   "outputs": [
    {
     "name": "stdout",
     "output_type": "stream",
     "text": [
      "Epoch 1 of 100 took 65.816s\n",
      "  training loss (in-iteration):\t\t0.387941\n",
      "  train accuracy:\t\t92.70 %\n",
      "  validation accuracy:\t\t96.34 %\n",
      "Epoch 2 of 100 took 69.653s\n",
      "  training loss (in-iteration):\t\t0.228149\n",
      "  train accuracy:\t\t96.26 %\n",
      "  validation accuracy:\t\t97.08 %\n",
      "Epoch 3 of 100 took 71.643s\n",
      "  training loss (in-iteration):\t\t0.193594\n",
      "  train accuracy:\t\t96.99 %\n",
      "  validation accuracy:\t\t96.88 %\n",
      "Epoch 4 of 100 took 79.422s\n",
      "  training loss (in-iteration):\t\t0.172524\n",
      "  train accuracy:\t\t97.39 %\n",
      "  validation accuracy:\t\t97.76 %\n",
      "Epoch 5 of 100 took 74.623s\n",
      "  training loss (in-iteration):\t\t0.152024\n",
      "  train accuracy:\t\t97.74 %\n",
      "  validation accuracy:\t\t98.18 %\n",
      "Epoch 6 of 100 took 73.651s\n",
      "  training loss (in-iteration):\t\t0.140545\n",
      "  train accuracy:\t\t97.92 %\n",
      "  validation accuracy:\t\t98.25 %\n",
      "Epoch 7 of 100 took 69.681s\n",
      "  training loss (in-iteration):\t\t0.126300\n",
      "  train accuracy:\t\t98.28 %\n",
      "  validation accuracy:\t\t98.37 %\n",
      "Epoch 8 of 100 took 73.006s\n",
      "  training loss (in-iteration):\t\t0.115886\n",
      "  train accuracy:\t\t98.45 %\n",
      "  validation accuracy:\t\t98.54 %\n",
      "Epoch 9 of 100 took 74.719s\n",
      "  training loss (in-iteration):\t\t0.108340\n",
      "  train accuracy:\t\t98.58 %\n",
      "  validation accuracy:\t\t98.65 %\n",
      "Epoch 10 of 100 took 74.374s\n",
      "  training loss (in-iteration):\t\t0.100537\n",
      "  train accuracy:\t\t98.64 %\n",
      "  validation accuracy:\t\t98.74 %\n",
      "Epoch 11 of 100 took 73.074s\n",
      "  training loss (in-iteration):\t\t0.097373\n",
      "  train accuracy:\t\t98.81 %\n",
      "  validation accuracy:\t\t98.73 %\n",
      "Epoch 12 of 100 took 70.485s\n",
      "  training loss (in-iteration):\t\t0.092628\n",
      "  train accuracy:\t\t98.83 %\n",
      "  validation accuracy:\t\t98.77 %\n",
      "Epoch 13 of 100 took 75.376s\n",
      "  training loss (in-iteration):\t\t0.089050\n",
      "  train accuracy:\t\t98.96 %\n",
      "  validation accuracy:\t\t98.95 %\n",
      "Epoch 14 of 100 took 70.002s\n",
      "  training loss (in-iteration):\t\t0.084043\n",
      "  train accuracy:\t\t99.02 %\n",
      "  validation accuracy:\t\t98.87 %\n",
      "Epoch 15 of 100 took 81.764s\n",
      "  training loss (in-iteration):\t\t0.081605\n",
      "  train accuracy:\t\t98.99 %\n",
      "  validation accuracy:\t\t98.80 %\n",
      "Epoch 16 of 100 took 82.988s\n",
      "  training loss (in-iteration):\t\t0.082700\n",
      "  train accuracy:\t\t99.08 %\n",
      "  validation accuracy:\t\t98.99 %\n",
      "Epoch 17 of 100 took 85.567s\n",
      "  training loss (in-iteration):\t\t0.079629\n",
      "  train accuracy:\t\t99.13 %\n",
      "  validation accuracy:\t\t98.86 %\n",
      "Epoch 18 of 100 took 84.340s\n",
      "  training loss (in-iteration):\t\t0.075657\n",
      "  train accuracy:\t\t99.17 %\n",
      "  validation accuracy:\t\t99.10 %\n",
      "Epoch 19 of 100 took 78.475s\n",
      "  training loss (in-iteration):\t\t0.075585\n",
      "  train accuracy:\t\t99.21 %\n",
      "  validation accuracy:\t\t99.03 %\n",
      "Epoch 20 of 100 took 76.116s\n",
      "  training loss (in-iteration):\t\t0.070368\n",
      "  train accuracy:\t\t99.24 %\n",
      "  validation accuracy:\t\t99.04 %\n",
      "Epoch 21 of 100 took 85.483s\n",
      "  training loss (in-iteration):\t\t0.071946\n",
      "  train accuracy:\t\t99.24 %\n",
      "  validation accuracy:\t\t99.12 %\n",
      "Epoch 22 of 100 took 79.639s\n",
      "  training loss (in-iteration):\t\t0.069708\n",
      "  train accuracy:\t\t99.28 %\n",
      "  validation accuracy:\t\t99.04 %\n",
      "Epoch 23 of 100 took 75.227s\n",
      "  training loss (in-iteration):\t\t0.065952\n",
      "  train accuracy:\t\t99.32 %\n",
      "  validation accuracy:\t\t99.01 %\n",
      "Epoch 24 of 100 took 74.696s\n",
      "  training loss (in-iteration):\t\t0.067600\n",
      "  train accuracy:\t\t99.35 %\n",
      "  validation accuracy:\t\t99.09 %\n",
      "Epoch 25 of 100 took 83.250s\n",
      "  training loss (in-iteration):\t\t0.065257\n",
      "  train accuracy:\t\t99.37 %\n",
      "  validation accuracy:\t\t99.06 %\n",
      "Epoch 26 of 100 took 70.616s\n",
      "  training loss (in-iteration):\t\t0.064902\n",
      "  train accuracy:\t\t99.39 %\n",
      "  validation accuracy:\t\t98.96 %\n"
     ]
    },
    {
     "ename": "KeyboardInterrupt",
     "evalue": "",
     "output_type": "error",
     "traceback": [
      "\u001b[1;31m---------------------------------------------------------------------------\u001b[0m",
      "\u001b[1;31mKeyboardInterrupt\u001b[0m                         Traceback (most recent call last)",
      "\u001b[1;32m<ipython-input-321-5b3400f09bdc>\u001b[0m in \u001b[0;36m<module>\u001b[1;34m()\u001b[0m\n\u001b[0;32m     12\u001b[0m     \u001b[1;32mfor\u001b[0m \u001b[0mbatch\u001b[0m \u001b[1;32min\u001b[0m \u001b[0miterate_minibatches\u001b[0m\u001b[1;33m(\u001b[0m\u001b[0mX_train\u001b[0m\u001b[1;33m,\u001b[0m \u001b[0my_train\u001b[0m\u001b[1;33m,\u001b[0m\u001b[0mbatch_size\u001b[0m\u001b[1;33m)\u001b[0m\u001b[1;33m:\u001b[0m\u001b[1;33m\u001b[0m\u001b[0m\n\u001b[0;32m     13\u001b[0m         \u001b[0minputs\u001b[0m\u001b[1;33m,\u001b[0m \u001b[0mtargets\u001b[0m \u001b[1;33m=\u001b[0m \u001b[0mbatch\u001b[0m\u001b[1;33m\u001b[0m\u001b[0m\n\u001b[1;32m---> 14\u001b[1;33m         \u001b[0mtrain_err_batch\u001b[0m\u001b[1;33m,\u001b[0m \u001b[0mtrain_acc_batch\u001b[0m\u001b[1;33m=\u001b[0m \u001b[0mtrain_fun\u001b[0m\u001b[1;33m(\u001b[0m\u001b[0minputs\u001b[0m\u001b[1;33m,\u001b[0m \u001b[0mtargets\u001b[0m\u001b[1;33m)\u001b[0m\u001b[1;33m\u001b[0m\u001b[0m\n\u001b[0m\u001b[0;32m     15\u001b[0m         \u001b[0mtrain_err\u001b[0m \u001b[1;33m+=\u001b[0m \u001b[0mtrain_err_batch\u001b[0m\u001b[1;33m\u001b[0m\u001b[0m\n\u001b[0;32m     16\u001b[0m         \u001b[0mtrain_acc\u001b[0m \u001b[1;33m+=\u001b[0m \u001b[0mtrain_acc_batch\u001b[0m\u001b[1;33m\u001b[0m\u001b[0m\n",
      "\u001b[1;32m/home/vachik/anaconda3/lib/python3.5/site-packages/theano/compile/function_module.py\u001b[0m in \u001b[0;36m__call__\u001b[1;34m(self, *args, **kwargs)\u001b[0m\n\u001b[0;32m    882\u001b[0m         \u001b[1;32mtry\u001b[0m\u001b[1;33m:\u001b[0m\u001b[1;33m\u001b[0m\u001b[0m\n\u001b[0;32m    883\u001b[0m             \u001b[0moutputs\u001b[0m \u001b[1;33m=\u001b[0m\u001b[0;31m\\\u001b[0m\u001b[1;33m\u001b[0m\u001b[0m\n\u001b[1;32m--> 884\u001b[1;33m                 \u001b[0mself\u001b[0m\u001b[1;33m.\u001b[0m\u001b[0mfn\u001b[0m\u001b[1;33m(\u001b[0m\u001b[1;33m)\u001b[0m \u001b[1;32mif\u001b[0m \u001b[0moutput_subset\u001b[0m \u001b[1;32mis\u001b[0m \u001b[1;32mNone\u001b[0m \u001b[1;32melse\u001b[0m\u001b[0;31m\\\u001b[0m\u001b[1;33m\u001b[0m\u001b[0m\n\u001b[0m\u001b[0;32m    885\u001b[0m                 \u001b[0mself\u001b[0m\u001b[1;33m.\u001b[0m\u001b[0mfn\u001b[0m\u001b[1;33m(\u001b[0m\u001b[0moutput_subset\u001b[0m\u001b[1;33m=\u001b[0m\u001b[0moutput_subset\u001b[0m\u001b[1;33m)\u001b[0m\u001b[1;33m\u001b[0m\u001b[0m\n\u001b[0;32m    886\u001b[0m         \u001b[1;32mexcept\u001b[0m \u001b[0mException\u001b[0m\u001b[1;33m:\u001b[0m\u001b[1;33m\u001b[0m\u001b[0m\n",
      "\u001b[1;32m/home/vachik/anaconda3/lib/python3.5/site-packages/theano/gof/op.py\u001b[0m in \u001b[0;36mrval\u001b[1;34m(p, i, o, n)\u001b[0m\n\u001b[0;32m    885\u001b[0m         \u001b[1;32mif\u001b[0m \u001b[0mparams\u001b[0m \u001b[1;32mis\u001b[0m \u001b[0mgraph\u001b[0m\u001b[1;33m.\u001b[0m\u001b[0mNoParams\u001b[0m\u001b[1;33m:\u001b[0m\u001b[1;33m\u001b[0m\u001b[0m\n\u001b[0;32m    886\u001b[0m             \u001b[1;31m# default arguments are stored in the closure of `rval`\u001b[0m\u001b[1;33m\u001b[0m\u001b[1;33m\u001b[0m\u001b[0m\n\u001b[1;32m--> 887\u001b[1;33m             \u001b[1;32mdef\u001b[0m \u001b[0mrval\u001b[0m\u001b[1;33m(\u001b[0m\u001b[0mp\u001b[0m\u001b[1;33m=\u001b[0m\u001b[0mp\u001b[0m\u001b[1;33m,\u001b[0m \u001b[0mi\u001b[0m\u001b[1;33m=\u001b[0m\u001b[0mnode_input_storage\u001b[0m\u001b[1;33m,\u001b[0m \u001b[0mo\u001b[0m\u001b[1;33m=\u001b[0m\u001b[0mnode_output_storage\u001b[0m\u001b[1;33m,\u001b[0m \u001b[0mn\u001b[0m\u001b[1;33m=\u001b[0m\u001b[0mnode\u001b[0m\u001b[1;33m)\u001b[0m\u001b[1;33m:\u001b[0m\u001b[1;33m\u001b[0m\u001b[0m\n\u001b[0m\u001b[0;32m    888\u001b[0m                 \u001b[0mr\u001b[0m \u001b[1;33m=\u001b[0m \u001b[0mp\u001b[0m\u001b[1;33m(\u001b[0m\u001b[0mn\u001b[0m\u001b[1;33m,\u001b[0m \u001b[1;33m[\u001b[0m\u001b[0mx\u001b[0m\u001b[1;33m[\u001b[0m\u001b[1;36m0\u001b[0m\u001b[1;33m]\u001b[0m \u001b[1;32mfor\u001b[0m \u001b[0mx\u001b[0m \u001b[1;32min\u001b[0m \u001b[0mi\u001b[0m\u001b[1;33m]\u001b[0m\u001b[1;33m,\u001b[0m \u001b[0mo\u001b[0m\u001b[1;33m)\u001b[0m\u001b[1;33m\u001b[0m\u001b[0m\n\u001b[0;32m    889\u001b[0m                 \u001b[1;32mfor\u001b[0m \u001b[0mo\u001b[0m \u001b[1;32min\u001b[0m \u001b[0mnode\u001b[0m\u001b[1;33m.\u001b[0m\u001b[0moutputs\u001b[0m\u001b[1;33m:\u001b[0m\u001b[1;33m\u001b[0m\u001b[0m\n",
      "\u001b[1;31mKeyboardInterrupt\u001b[0m: "
     ]
    }
   ],
   "source": [
    "import time\n",
    "\n",
    "num_epochs = 100 #amount of passes through the data\n",
    "l=[]\n",
    "batch_size = 50 #number of samples processed at each function call\n",
    "for epoch in range(num_epochs):\n",
    "    # In each epoch, we do a full pass over the training data:\n",
    "    train_err = 0\n",
    "    train_acc = 0\n",
    "    train_batches = 0\n",
    "    start_time = time.time()\n",
    "    for batch in iterate_minibatches(X_train, y_train,batch_size):\n",
    "        inputs, targets = batch\n",
    "        train_err_batch, train_acc_batch= train_fun(inputs, targets)\n",
    "        train_err += train_err_batch\n",
    "        train_acc += train_acc_batch\n",
    "        train_batches += 1\n",
    "\n",
    "    # And a full pass over the validation data:\n",
    "    val_acc = 0\n",
    "    val_batches = 0\n",
    "    for batch in iterate_minibatches(X_val, y_val, batch_size):\n",
    "        inputs, targets = batch\n",
    "        val_acc += accuracy_fun(inputs, targets)\n",
    "        val_batches += 1\n",
    "\n",
    "    \n",
    "    # Then we print the results for this epoch:\n",
    "    print(\"Epoch {} of {} took {:.3f}s\".format(\n",
    "        epoch + 1, num_epochs, time.time() - start_time))\n",
    "\n",
    "    print(\"  training loss (in-iteration):\\t\\t{:.6f}\".format(train_err / train_batches))\n",
    "    print(\"  train accuracy:\\t\\t{:.2f} %\".format(\n",
    "        train_acc / train_batches * 100))\n",
    "    print(\"  validation accuracy:\\t\\t{:.2f} %\".format(\n",
    "        val_acc / val_batches * 100))\n",
    "    #l.append(train_err / train_batches)\n",
    "    #plt.plot(list(range(epoch+1)),l,'r')\n",
    "   "
   ]
  },
  {
   "cell_type": "code",
   "execution_count": 322,
   "metadata": {
    "collapsed": false
   },
   "outputs": [
    {
     "name": "stdout",
     "output_type": "stream",
     "text": [
      "Final results:\n",
      "  test accuracy:\t\t99.14 %\n",
      "Achievement unlocked: 80lvl Warlock!\n"
     ]
    }
   ],
   "source": [
    "plt.show()\n",
    "test_acc = 0\n",
    "test_batches = 0\n",
    "for batch in iterate_minibatches(X_test, y_test, 500):\n",
    "    inputs, targets = batch\n",
    "    acc = accuracy_fun(inputs, targets)\n",
    "    test_acc += acc\n",
    "    test_batches += 1\n",
    "print(\"Final results:\")\n",
    "print(\"  test accuracy:\\t\\t{:.2f} %\".format(\n",
    "    test_acc / test_batches * 100))\n",
    "\n",
    "if test_acc / test_batches * 100 > 99:\n",
    "    print (\"Achievement unlocked: 80lvl Warlock!\")\n",
    "else:\n",
    "    print (\"We need more magic!\")"
   ]
  },
  {
   "cell_type": "code",
   "execution_count": null,
   "metadata": {
    "collapsed": true
   },
   "outputs": [],
   "source": [
    "y = arccos( (( 10^4 + 3726.9 )*10*8 / 10^4 )*sqrt(( (1 /(0.05*sqrt(2* 3.14 ) ) )*exp( -0.5((x - 2)/0.05)^2  ))/(2*3726.9 +(1 /(0.05*sqrt(2* 3.14 ) ) )*exp( -0.5((x - 2)/0.05)^2 )) )) "
   ]
  },
  {
   "cell_type": "markdown",
   "metadata": {
    "collapsed": true
   },
   "source": [
    "# Now improve it!\n",
    "\n",
    "* Moar layers!\n",
    "* Moar units!\n",
    "* Different nonlinearities!"
   ]
  }
 ],
 "metadata": {
  "kernelspec": {
   "display_name": "Python 3",
   "language": "python",
   "name": "python3"
  },
  "language_info": {
   "codemirror_mode": {
    "name": "ipython",
    "version": 3
   },
   "file_extension": ".py",
   "mimetype": "text/x-python",
   "name": "python",
   "nbconvert_exporter": "python",
   "pygments_lexer": "ipython3",
   "version": "3.5.1"
  }
 },
 "nbformat": 4,
 "nbformat_minor": 1
}
