{
 "cells": [
  {
   "cell_type": "markdown",
   "metadata": {},
   "source": [
    "<span style=\"font-size: 14pt\">EREVAN, May-June 2017</span>\n",
    "\n",
    "<span style=\"font-size: 16pt\"> Seminar #2: Exponential smoothing models\n",
    "\n",
    "<span style=\"color:blue; font-size: 12pt\">Alexey Romanenko </span>,\n",
    "<span style=\"color:blue; font-size: 12pt; font-family: 'Verdana'\">alexromsput@gmail.com</span>\n",
    "\n",
    "\n",
    "<h1 align=\"center\"> Home Work 1 </h1>\n",
    "\n",
    "## Answer questions\n",
    "\n",
    "1) ** How do adaptive properties of SES change when smoothing parametr $\\alpha$ converges to 1?**\n",
    "\n",
    "<Answer>\n",
    "\n",
    "2) ** What will be the optimal value of smoothing parameter of trend $\\beta$ in Hold model for 1) time series with slowly  changing trend; 2) stochastic changing trend (look <a href=\"http://stochastictrend.blogspot.am/\">here </a>)? **\n",
    "\n",
    "<Answer>\n",
    "\n",
    "3) **Proof the equivalency of correction error form and smoothing form for unobserved component of TS in  Thei-Wage model (period of seasonality equals $p$):**\n",
    "\n",
    "  $$l_t = \\alpha (y_t - s_{t-p}) + (1-\\alpha) (l_{t-1} + b_{t-1} )=l_{t-1} + b_{t-1} + \\alpha e_t;$$\n",
    "  $$ b_t = \\beta (l_{t} - l_{t-1} ) + (1-\\beta) b_{t-1} = b_{t-1} + \\alpha\\beta e_t;$$\n",
    "  $$ s_t = \\gamma (y_t-l_t) + (1-\\gamma) s_{t-p} = s_{t-p} + \\gamma(1-\\alpha)e_t.$$\n",
    "\n",
    "\n",
    "4) **Find the correction error form for unobserved component of TS in ES with additive damped trend:**\n",
    "\n",
    "$$\\hat{y}_{t+d|t} = l_t + \\left(\\phi + \\phi^2 + \\dots + \\phi^{d}\\right) b_t.$$\n",
    "\n",
    "**Unobserved components are (in smoothing form): **\n",
    "\n",
    "$$ l_{t}       = \\alpha y_t + \\left(1-\\alpha\\right) \\left(l_{t-1} +\\phi b_{t-1}\\right),$$\n",
    "$$ b_t         = \\beta \\left(l_t - l_{t-1}\\right) + \\left(1-\\beta\\right)\\phi b_{t-1}.$$"
   ]
  },
  {
   "cell_type": "markdown",
   "metadata": {},
   "source": [
    "1)Predictions become more loke like the last point of time. If $\\alpha$ becomes 1, predictions will be data shifted right.\n",
    "\n",
    "2)In first case $\\beta$ will be in range(0,0.3), in second case higher.\n",
    "\n",
    "3)$l_t=\\alpha(y_t-s_{t-p})+(1-\\alpha)(l_{t-1}+b_{t-1})=l_{t-1}+b_{t-1}+\\alpha(y_t-s_{t-p}-b{t-1}-l{t-1})=l_{t-1}+b_{t-1}+\\alpha(y_t-\\hat{y}_t)=l_{t-1}+b_{t-1}+\\alpha e_t$\n",
    "\n",
    "$b_t=\\beta(l_t-l_{t-1})+(1-\\beta)b_{t-1}=b_{t-1}+\\beta(l_t-l_{t-1}-b_{t-1})=b_{t-1}+\\beta(l_{t-1}+b_{t-1}+\\alpha e_t-l_{t-1}-b_{t-1})=b_{t-1}+\\beta(\\alpha e_t)=b_{t-1}+\\alpha\\beta e_t$\n",
    "\n",
    "$s_t=\\gamma(y_t-l_t)+(1-\\gamma)s_{t-p}=s_{t-p}+\\gamma(y_t-l_t-s_{t-p})=s_{t-p}+\\gamma(y_t-l_t-l_{t-1}-b_{t-1}+b_{t-1}+l_{t-1}-s_{t-p})=s_{t-p}+\\gamma(y_t-(l_{t-1}+b_{t-1}+\\alpha e_t)+l_{t-1}+b_{t-1}-\\hat{y}_t)=s_{t-p}+\\gamma(e_t-\\alpha e_t)=s_{t-p}+\\gamma(1-\\alpha)e_t$"
   ]
  }
 ],
 "metadata": {
  "anaconda-cloud": {},
  "kernelspec": {
   "display_name": "Python 3",
   "language": "python",
   "name": "python3"
  },
  "language_info": {
   "codemirror_mode": {
    "name": "ipython",
    "version": 3
   },
   "file_extension": ".py",
   "mimetype": "text/x-python",
   "name": "python",
   "nbconvert_exporter": "python",
   "pygments_lexer": "ipython3",
   "version": "3.6.0"
  }
 },
 "nbformat": 4,
 "nbformat_minor": 1
}
